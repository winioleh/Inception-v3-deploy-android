{
  "nbformat": 4,
  "nbformat_minor": 0,
  "metadata": {
    "colab": {
      "name": "Untitled",
      "provenance": [],
      "collapsed_sections": [],
      "authorship_tag": "ABX9TyN41ZgGyeV0FU6olkb7GbIB",
      "include_colab_link": true
    },
    "kernelspec": {
      "name": "python3",
      "display_name": "Python 3"
    }
  },
  "cells": [
    {
      "cell_type": "markdown",
      "metadata": {
        "id": "view-in-github",
        "colab_type": "text"
      },
      "source": [
        "<a href=\"https://colab.research.google.com/github/winioleh/Inception-v3-deploy-android/blob/master/Untitled.ipynb\" target=\"_parent\"><img src=\"https://colab.research.google.com/assets/colab-badge.svg\" alt=\"Open In Colab\"/></a>"
      ]
    },
    {
      "cell_type": "code",
      "metadata": {
        "id": "SjaRbjgc9fDS",
        "colab_type": "code",
        "colab": {
          "base_uri": "https://localhost:8080/",
          "height": 68
        },
        "outputId": "e56bedc0-61a5-4a6a-a2af-8003de5e43ea"
      },
      "source": [
        "class Transport:\n",
        "  def __init(self, speed):\n",
        "    self.speed=speed\n",
        "  def move(self):\n",
        "    pass\n",
        "  def __get_speed__(self):\n",
        "    return self.speed\n",
        "\n",
        "\n",
        "class Car(Transport):\n",
        "  def __init__(self,speed):\n",
        "        Transport.__init__(self)\n",
        "        self.speed = speed\n",
        "\n",
        "  def move(self):\n",
        "    speed = self.__get_speed__()\n",
        "    print(\"Car is moving with speed: \" + str(speed))\n",
        "\n",
        "\n",
        "class Plane(Transport):\n",
        "  def __init__(self,speed):\n",
        "        Transport.__init__(self)\n",
        "        self.speed = speed\n",
        "\n",
        "\n",
        "  def move(self):\n",
        "    speed = self.__get_speed__()\n",
        "    print(\"Plane is moving with speed: \" + str(speed))\n",
        "\n",
        "c = Car(200)\n",
        "print(\"@@@\")\n",
        "p = Plane(400)\n",
        "transports = [c, p]\n",
        "for t in transports:\n",
        "  t.move()\n"
      ],
      "execution_count": 20,
      "outputs": [
        {
          "output_type": "stream",
          "text": [
            "@@@\n",
            "Car is moving with speed: 200\n",
            "Plane is moving with speed: 400\n"
          ],
          "name": "stdout"
        }
      ]
    },
    {
      "cell_type": "code",
      "metadata": {
        "id": "oRRTbAWbBLNE",
        "colab_type": "code",
        "colab": {}
      },
      "source": [
        ""
      ],
      "execution_count": 0,
      "outputs": []
    }
  ]
}